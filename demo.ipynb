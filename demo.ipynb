{
 "cells": [
  {
   "cell_type": "code",
   "execution_count": 1,
   "metadata": {},
   "outputs": [
    {
     "name": "stderr",
     "output_type": "stream",
     "text": [
      "c:\\Users\\Kepler\\fraypac\\.venv\\lib\\site-packages\\fuzzywuzzy\\fuzz.py:11: UserWarning: Using slow pure-python SequenceMatcher. Install python-Levenshtein to remove this warning\n",
      "  warnings.warn('Using slow pure-python SequenceMatcher. Install python-Levenshtein to remove this warning')\n"
     ]
    }
   ],
   "source": [
    "import re\n",
    "import io\n",
    "import requests\n",
    "import pandas as pd\n",
    "from fuzzywuzzy import fuzz, process\n",
    "from pac_hunter.hunter import fetch_committee_distributions\n",
    "from pac_hunter.states import us_state_to_abbrev, abbrev_to_us_state\n",
    "from pac_hunter.utils import fuzzy_filter, clean_df\n",
    "from pac_hunter.constants import OPENSECRETS_API_KEY, OPENFEC_API_KEY"
   ]
  },
  {
   "cell_type": "code",
   "execution_count": 2,
   "metadata": {},
   "outputs": [],
   "source": [
    "jan6_house = pd.read_csv(\"jan6-house-deniers.csv\")\n",
    "jan6_senate = pd.read_csv(\"jan6-senate-deniers.csv\")\n",
    "jan6_congress = pd.concat([jan6_house.assign(office=\"Representative\"), jan6_senate.assign(office=\"Senator\")], ignore_index=True)\n",
    "url = \"https://raw.githubusercontent.com/fivethirtyeight/data/master/election-deniers/fivethirtyeight_election_deniers.csv\"\n",
    "ballot_deniers = pd.read_csv(url)\n",
    "ballot_deniers = ballot_deniers.assign(party=\"r\")"
   ]
  },
  {
   "cell_type": "code",
   "execution_count": 4,
   "metadata": {},
   "outputs": [],
   "source": [
    "jan6_congress_clean = clean_df(jan6_congress)\n",
    "ballot_deniers_clean = clean_df(ballot_deniers)"
   ]
  },
  {
   "cell_type": "code",
   "execution_count": 6,
   "metadata": {},
   "outputs": [],
   "source": [
    "jan6_deniers = jan6_congress_clean.query(\"vote=='yea'\")"
   ]
  },
  {
   "cell_type": "code",
   "execution_count": 29,
   "metadata": {},
   "outputs": [
    {
     "name": "stdout",
     "output_type": "stream",
     "text": [
      "Multiple results for committee raytheon technologies, taking the first entry\n",
      "Dividing recipient names into groups of 50\n"
     ]
    }
   ],
   "source": [
    "df = fetch_committee_distributions(api_key=OPENFEC_API_KEY, committee_name=\"raytheon technologies\", recipient_names=ballot_deniers_clean[\"last_name\"])"
   ]
  }
 ],
 "metadata": {
  "kernelspec": {
   "display_name": "Python 3.10.6 ('.venv': venv)",
   "language": "python",
   "name": "python3"
  },
  "language_info": {
   "codemirror_mode": {
    "name": "ipython",
    "version": 3
   },
   "file_extension": ".py",
   "mimetype": "text/x-python",
   "name": "python",
   "nbconvert_exporter": "python",
   "pygments_lexer": "ipython3",
   "version": "3.10.6"
  },
  "orig_nbformat": 4,
  "vscode": {
   "interpreter": {
    "hash": "62454c02092b8fd66262bf52d6206be321be978c302b829989df04f975815561"
   }
  }
 },
 "nbformat": 4,
 "nbformat_minor": 2
}
